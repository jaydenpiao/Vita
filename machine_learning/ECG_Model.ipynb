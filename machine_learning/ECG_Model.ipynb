{
  "cells": [
    {
      "cell_type": "markdown",
      "metadata": {
        "id": "M5ptZVaN5hZJ"
      },
      "source": [
        "# Normal vs Heart Attack Classification Model using ECGs"
      ]
    },
    {
      "cell_type": "markdown",
      "metadata": {
        "id": "JXCALUfH5oqw"
      },
      "source": [
        "## Get the Data"
      ]
    },
    {
      "cell_type": "code",
      "execution_count": 1,
      "metadata": {
        "colab": {
          "base_uri": "https://localhost:8080/"
        },
        "id": "PDmJrPB36kRq",
        "outputId": "b172fbbc-55b7-4f5f-85e1-43ddedcee6db"
      },
      "outputs": [
        {
          "name": "stdout",
          "output_type": "stream",
          "text": [
            "Requirement already satisfied: tensorflow in /usr/local/lib/python3.10/dist-packages (2.15.0)\n",
            "Requirement already satisfied: numpy in /usr/local/lib/python3.10/dist-packages (1.23.5)\n",
            "Requirement already satisfied: scipy in /usr/local/lib/python3.10/dist-packages (1.11.4)\n",
            "Requirement already satisfied: scikit-learn in /usr/local/lib/python3.10/dist-packages (1.2.2)\n",
            "Requirement already satisfied: pandas in /usr/local/lib/python3.10/dist-packages (1.5.3)\n",
            "Collecting wfdb\n",
            "  Downloading wfdb-4.1.2-py3-none-any.whl (159 kB)\n",
            "\u001b[2K     \u001b[90m━━━━━━━━━━━━━━━━━━━━━━━━━━━━━━━━━━━━━━━━\u001b[0m \u001b[32m160.0/160.0 kB\u001b[0m \u001b[31m2.6 MB/s\u001b[0m eta \u001b[36m0:00:00\u001b[0m\n",
            "\u001b[?25hRequirement already satisfied: absl-py>=1.0.0 in /usr/local/lib/python3.10/dist-packages (from tensorflow) (1.4.0)\n",
            "Requirement already satisfied: astunparse>=1.6.0 in /usr/local/lib/python3.10/dist-packages (from tensorflow) (1.6.3)\n",
            "Requirement already satisfied: flatbuffers>=23.5.26 in /usr/local/lib/python3.10/dist-packages (from tensorflow) (23.5.26)\n",
            "Requirement already satisfied: gast!=0.5.0,!=0.5.1,!=0.5.2,>=0.2.1 in /usr/local/lib/python3.10/dist-packages (from tensorflow) (0.5.4)\n",
            "Requirement already satisfied: google-pasta>=0.1.1 in /usr/local/lib/python3.10/dist-packages (from tensorflow) (0.2.0)\n",
            "Requirement already satisfied: h5py>=2.9.0 in /usr/local/lib/python3.10/dist-packages (from tensorflow) (3.9.0)\n",
            "Requirement already satisfied: libclang>=13.0.0 in /usr/local/lib/python3.10/dist-packages (from tensorflow) (16.0.6)\n",
            "Requirement already satisfied: ml-dtypes~=0.2.0 in /usr/local/lib/python3.10/dist-packages (from tensorflow) (0.2.0)\n",
            "Requirement already satisfied: opt-einsum>=2.3.2 in /usr/local/lib/python3.10/dist-packages (from tensorflow) (3.3.0)\n",
            "Requirement already satisfied: packaging in /usr/local/lib/python3.10/dist-packages (from tensorflow) (23.2)\n",
            "Requirement already satisfied: protobuf!=4.21.0,!=4.21.1,!=4.21.2,!=4.21.3,!=4.21.4,!=4.21.5,<5.0.0dev,>=3.20.3 in /usr/local/lib/python3.10/dist-packages (from tensorflow) (3.20.3)\n",
            "Requirement already satisfied: setuptools in /usr/local/lib/python3.10/dist-packages (from tensorflow) (67.7.2)\n",
            "Requirement already satisfied: six>=1.12.0 in /usr/local/lib/python3.10/dist-packages (from tensorflow) (1.16.0)\n",
            "Requirement already satisfied: termcolor>=1.1.0 in /usr/local/lib/python3.10/dist-packages (from tensorflow) (2.4.0)\n",
            "Requirement already satisfied: typing-extensions>=3.6.6 in /usr/local/lib/python3.10/dist-packages (from tensorflow) (4.5.0)\n",
            "Requirement already satisfied: wrapt<1.15,>=1.11.0 in /usr/local/lib/python3.10/dist-packages (from tensorflow) (1.14.1)\n",
            "Requirement already satisfied: tensorflow-io-gcs-filesystem>=0.23.1 in /usr/local/lib/python3.10/dist-packages (from tensorflow) (0.35.0)\n",
            "Requirement already satisfied: grpcio<2.0,>=1.24.3 in /usr/local/lib/python3.10/dist-packages (from tensorflow) (1.60.0)\n",
            "Requirement already satisfied: tensorboard<2.16,>=2.15 in /usr/local/lib/python3.10/dist-packages (from tensorflow) (2.15.1)\n",
            "Requirement already satisfied: tensorflow-estimator<2.16,>=2.15.0 in /usr/local/lib/python3.10/dist-packages (from tensorflow) (2.15.0)\n",
            "Requirement already satisfied: keras<2.16,>=2.15.0 in /usr/local/lib/python3.10/dist-packages (from tensorflow) (2.15.0)\n",
            "Requirement already satisfied: joblib>=1.1.1 in /usr/local/lib/python3.10/dist-packages (from scikit-learn) (1.3.2)\n",
            "Requirement already satisfied: threadpoolctl>=2.0.0 in /usr/local/lib/python3.10/dist-packages (from scikit-learn) (3.2.0)\n",
            "Requirement already satisfied: python-dateutil>=2.8.1 in /usr/local/lib/python3.10/dist-packages (from pandas) (2.8.2)\n",
            "Requirement already satisfied: pytz>=2020.1 in /usr/local/lib/python3.10/dist-packages (from pandas) (2023.3.post1)\n",
            "Requirement already satisfied: SoundFile>=0.10.0 in /usr/local/lib/python3.10/dist-packages (from wfdb) (0.12.1)\n",
            "Requirement already satisfied: matplotlib>=3.2.2 in /usr/local/lib/python3.10/dist-packages (from wfdb) (3.7.1)\n",
            "Requirement already satisfied: requests>=2.8.1 in /usr/local/lib/python3.10/dist-packages (from wfdb) (2.31.0)\n",
            "Requirement already satisfied: wheel<1.0,>=0.23.0 in /usr/local/lib/python3.10/dist-packages (from astunparse>=1.6.0->tensorflow) (0.42.0)\n",
            "Requirement already satisfied: contourpy>=1.0.1 in /usr/local/lib/python3.10/dist-packages (from matplotlib>=3.2.2->wfdb) (1.2.0)\n",
            "Requirement already satisfied: cycler>=0.10 in /usr/local/lib/python3.10/dist-packages (from matplotlib>=3.2.2->wfdb) (0.12.1)\n",
            "Requirement already satisfied: fonttools>=4.22.0 in /usr/local/lib/python3.10/dist-packages (from matplotlib>=3.2.2->wfdb) (4.47.2)\n",
            "Requirement already satisfied: kiwisolver>=1.0.1 in /usr/local/lib/python3.10/dist-packages (from matplotlib>=3.2.2->wfdb) (1.4.5)\n",
            "Requirement already satisfied: pillow>=6.2.0 in /usr/local/lib/python3.10/dist-packages (from matplotlib>=3.2.2->wfdb) (9.4.0)\n",
            "Requirement already satisfied: pyparsing>=2.3.1 in /usr/local/lib/python3.10/dist-packages (from matplotlib>=3.2.2->wfdb) (3.1.1)\n",
            "Requirement already satisfied: charset-normalizer<4,>=2 in /usr/local/lib/python3.10/dist-packages (from requests>=2.8.1->wfdb) (3.3.2)\n",
            "Requirement already satisfied: idna<4,>=2.5 in /usr/local/lib/python3.10/dist-packages (from requests>=2.8.1->wfdb) (3.6)\n",
            "Requirement already satisfied: urllib3<3,>=1.21.1 in /usr/local/lib/python3.10/dist-packages (from requests>=2.8.1->wfdb) (2.0.7)\n",
            "Requirement already satisfied: certifi>=2017.4.17 in /usr/local/lib/python3.10/dist-packages (from requests>=2.8.1->wfdb) (2023.11.17)\n",
            "Requirement already satisfied: cffi>=1.0 in /usr/local/lib/python3.10/dist-packages (from SoundFile>=0.10.0->wfdb) (1.16.0)\n",
            "Requirement already satisfied: google-auth<3,>=1.6.3 in /usr/local/lib/python3.10/dist-packages (from tensorboard<2.16,>=2.15->tensorflow) (2.17.3)\n",
            "Requirement already satisfied: google-auth-oauthlib<2,>=0.5 in /usr/local/lib/python3.10/dist-packages (from tensorboard<2.16,>=2.15->tensorflow) (1.2.0)\n",
            "Requirement already satisfied: markdown>=2.6.8 in /usr/local/lib/python3.10/dist-packages (from tensorboard<2.16,>=2.15->tensorflow) (3.5.2)\n",
            "Requirement already satisfied: tensorboard-data-server<0.8.0,>=0.7.0 in /usr/local/lib/python3.10/dist-packages (from tensorboard<2.16,>=2.15->tensorflow) (0.7.2)\n",
            "Requirement already satisfied: werkzeug>=1.0.1 in /usr/local/lib/python3.10/dist-packages (from tensorboard<2.16,>=2.15->tensorflow) (3.0.1)\n",
            "Requirement already satisfied: pycparser in /usr/local/lib/python3.10/dist-packages (from cffi>=1.0->SoundFile>=0.10.0->wfdb) (2.21)\n",
            "Requirement already satisfied: cachetools<6.0,>=2.0.0 in /usr/local/lib/python3.10/dist-packages (from google-auth<3,>=1.6.3->tensorboard<2.16,>=2.15->tensorflow) (5.3.2)\n",
            "Requirement already satisfied: pyasn1-modules>=0.2.1 in /usr/local/lib/python3.10/dist-packages (from google-auth<3,>=1.6.3->tensorboard<2.16,>=2.15->tensorflow) (0.3.0)\n",
            "Requirement already satisfied: rsa<5,>=3.1.4 in /usr/local/lib/python3.10/dist-packages (from google-auth<3,>=1.6.3->tensorboard<2.16,>=2.15->tensorflow) (4.9)\n",
            "Requirement already satisfied: requests-oauthlib>=0.7.0 in /usr/local/lib/python3.10/dist-packages (from google-auth-oauthlib<2,>=0.5->tensorboard<2.16,>=2.15->tensorflow) (1.3.1)\n",
            "Requirement already satisfied: MarkupSafe>=2.1.1 in /usr/local/lib/python3.10/dist-packages (from werkzeug>=1.0.1->tensorboard<2.16,>=2.15->tensorflow) (2.1.3)\n",
            "Requirement already satisfied: pyasn1<0.6.0,>=0.4.6 in /usr/local/lib/python3.10/dist-packages (from pyasn1-modules>=0.2.1->google-auth<3,>=1.6.3->tensorboard<2.16,>=2.15->tensorflow) (0.5.1)\n",
            "Requirement already satisfied: oauthlib>=3.0.0 in /usr/local/lib/python3.10/dist-packages (from requests-oauthlib>=0.7.0->google-auth-oauthlib<2,>=0.5->tensorboard<2.16,>=2.15->tensorflow) (3.2.2)\n",
            "Installing collected packages: wfdb\n",
            "Successfully installed wfdb-4.1.2\n"
          ]
        }
      ],
      "source": [
        "# Install Python dependencies\n",
        "!pip install tensorflow numpy scipy scikit-learn pandas wfdb"
      ]
    },
    {
      "cell_type": "code",
      "execution_count": 33,
      "metadata": {
        "colab": {
          "base_uri": "https://localhost:8080/"
        },
        "id": "BHafT_wL5sOs",
        "outputId": "60cab02e-cf48-479c-e4a9-50ef00d7dc29"
      },
      "outputs": [
        {
          "name": "stdout",
          "output_type": "stream",
          "text": [
            "Drive already mounted at /content/drive/; to attempt to forcibly remount, call drive.mount(\"/content/drive/\", force_remount=True).\n"
          ]
        }
      ],
      "source": [
        "# Dataset Originally from here: https://www.physionet.org/content/ptb-xl/1.0.3/records500/21000/\n",
        "# The dataset is saved in a google drive folder, and was preprocessed to only contain the second\n",
        "# lead sampled at 100Hz.\n",
        "import os\n",
        "import numpy as np\n",
        "from google.colab import drive\n",
        "\n",
        "# Mount google drive\n",
        "MOUNT_DIR = \"/content/drive\"\n",
        "drive.mount('/content/drive/')\n",
        "\n",
        "# Load the saved data\n",
        "DATA_PATH = os.path.join(MOUNT_DIR, \"MyDrive\", \"datasets\", \"ecg.npz\")\n",
        "data = np.load(DATA_PATH)"
      ]
    },
    {
      "cell_type": "markdown",
      "metadata": {
        "id": "l0sZgkly6aCP"
      },
      "source": [
        "## Preprocess the Dataset"
      ]
    },
    {
      "cell_type": "code",
      "execution_count": 34,
      "metadata": {
        "id": "XSptpfsE7YFk"
      },
      "outputs": [],
      "source": [
        "%matplotlib inline\n",
        "import matplotlib.pyplot as plt\n",
        "from scipy import stats\n",
        "\n",
        "def compute_p2p_stats(signals):\n",
        "  p2p_voltages = np.max(signals, axis=1) - np.min(signals, axis=1)\n",
        "  mean = np.mean(p2p_voltages)\n",
        "  median = np.median(p2p_voltages)\n",
        "  std = np.std(p2p_voltages)\n",
        "  return p2p_voltages, mean, median, std\n",
        "\n",
        "def plot_histogram(p2p, mean, median, std, num_stds, title):\n",
        "  plt.clf()\n",
        "  plt.hist(p2p, bins=20)\n",
        "  plt.axvline(x=mean, c=\"r\", label=\"mean\")\n",
        "  plt.axvline(x=median, c=\"k\", label=\"median\")\n",
        "  plt.axvline(x=median+(std*num_stds), c=\"b\", label=f\"+/-{num_stds} Standard Deviations\")\n",
        "  plt.axvline(x=median-(std*num_stds), c=\"b\")\n",
        "  plt.title(title)\n",
        "  plt.xlabel(\"p2p voltages\")\n",
        "  plt.legend()\n",
        "  plt.show()\n",
        "\n",
        "\n",
        "norm, mi = data[\"arr_0\"], data[\"arr_1\"]\n",
        "\n",
        "p2p_norm, mean_norm, median_norm, std_norm = compute_p2p_stats(norm)\n",
        "p2p_mi, mean_mi, median_mi, std_mi = compute_p2p_stats(mi)\n"
      ]
    },
    {
      "cell_type": "code",
      "execution_count": 35,
      "metadata": {
        "colab": {
          "base_uri": "https://localhost:8080/",
          "height": 472
        },
        "id": "QhsgANNG9APG",
        "outputId": "435c9216-c8ee-45b9-bf8a-e80332bdfda4"
      },
      "outputs": [
        {
          "data": {
            "image/png": "[encoded data removed]",
            "text/plain": [
              "<Figure size 640x480 with 1 Axes>"
            ]
          },
          "metadata": {},
          "output_type": "display_data"
        }
      ],
      "source": [
        "nstds_norm = 1.\n",
        "plot_histogram(p2p_norm, mean_norm, median_norm, std_norm, nstds_norm, \"Normal ECG Peak-to-Peak Voltages\")"
      ]
    },
    {
      "cell_type": "code",
      "execution_count": 36,
      "metadata": {
        "colab": {
          "base_uri": "https://localhost:8080/",
          "height": 472
        },
        "id": "CvFNEPrs8_2K",
        "outputId": "89f9ca6f-4259-4780-c855-89942aebd329"
      },
      "outputs": [
        {
          "data": {
            "image/png": "[encoded data removed]",
            "text/plain": [
              "<Figure size 640x480 with 1 Axes>"
            ]
          },
          "metadata": {},
          "output_type": "display_data"
        }
      ],
      "source": [
        "nstds_mi = 1.\n",
        "plot_histogram(p2p_mi, mean_mi, median_mi, std_mi, nstds_mi, \"MI ECG Peak-to-Peak Voltages\")"
      ]
    },
    {
      "cell_type": "code",
      "execution_count": 6,
      "metadata": {
        "colab": {
          "base_uri": "https://localhost:8080/"
        },
        "id": "ek-6Lc3s-q77",
        "outputId": "e0e6297c-5899-4a6c-88ca-b700741f188b"
      },
      "outputs": [
        {
          "name": "stdout",
          "output_type": "stream",
          "text": [
            "Keeping 14340 / 19028 of normal ECGs\n",
            "Keeping 8616 / 10574 of MI ECGs\n",
            "Norm Matrix Shape: (14340, 1000)\n",
            "MI Matrix Shape: (8616, 1000)\n"
          ]
        }
      ],
      "source": [
        "# Drop data outside 1 standard deviation\n",
        "keep_mask_norm = np.abs(p2p_norm - median_norm) <= std_norm\n",
        "keep_mask_mi = np.abs(p2p_mi - median_mi) <= std_mi\n",
        "\n",
        "print(f\"Keeping {np.sum(keep_mask_norm)} / {p2p_norm.size} of normal ECGs\")\n",
        "print(f\"Keeping {np.sum(keep_mask_mi)} / {p2p_mi.size} of MI ECGs\")\n",
        "\n",
        "norm_filtered = norm[keep_mask_norm]\n",
        "mi_filtered = mi[keep_mask_mi]\n",
        "\n",
        "print(f\"Norm Matrix Shape: {norm_filtered.shape}\")\n",
        "print(f\"MI Matrix Shape: {mi_filtered.shape}\")"
      ]
    },
    {
      "cell_type": "code",
      "execution_count": 7,
      "metadata": {
        "colab": {
          "base_uri": "https://localhost:8080/"
        },
        "id": "f1Vi-XjFBKHr",
        "outputId": "7f8338e3-c564-4570-9d94-0d8d066e4425"
      },
      "outputs": [
        {
          "name": "stdout",
          "output_type": "stream",
          "text": [
            "X Shape: (22956, 1, 1000)\n",
            "y Shape: (22956, 1)\n"
          ]
        }
      ],
      "source": [
        "# Combine data into one representation\n",
        "X = np.expand_dims(np.vstack((norm_filtered, mi_filtered)), axis=1)\n",
        "y = np.vstack([\n",
        "      np.zeros(shape=(norm_filtered.shape[0], 1), dtype=int),\n",
        "      np.ones(shape=(mi_filtered.shape[0], 1), dtype=int)\n",
        "    ])\n",
        "\n",
        "print(f\"X Shape: {X.shape}\")\n",
        "print(f\"y Shape: {y.shape}\")"
      ]
    },
    {
      "cell_type": "markdown",
      "metadata": {
        "id": "B_NSTQcc86E3"
      },
      "source": [
        "## Split the Dataset"
      ]
    },
    {
      "cell_type": "code",
      "execution_count": 8,
      "metadata": {
        "id": "Cb08eI4I80Y6"
      },
      "outputs": [],
      "source": [
        "from sklearn.model_selection import train_test_split\n",
        "import tensorflow as tf\n",
        "\n",
        "# Split the dataset into training and testing sets\n",
        "X_train, X_test, y_train, y_test = train_test_split(X, y, test_size=0.1, random_state=42)\n",
        "\n",
        "# Split the training set into train and validation\n",
        "X_train, X_val, y_train, y_val = train_test_split(X_train, y_train, test_size=0.25, random_state=42)\n",
        "\n",
        "# Split the training set further into train and deployment\n",
        "X_train, X_deploy, y_train, y_deploy = train_test_split(X_train, y_train, test_size=0.05, random_state=42)\n",
        "\n",
        "# Convert all the datasets into TensorFlow tensors\n",
        "X_train = tf.convert_to_tensor(X_train)\n",
        "X_val = tf.convert_to_tensor(X_val)\n",
        "X_test = tf.convert_to_tensor(X_test)\n",
        "X_deploy = tf.convert_to_tensor(X_deploy)\n",
        "y_train = tf.convert_to_tensor(y_train)\n",
        "y_val = tf.convert_to_tensor(y_val)\n",
        "y_test = tf.convert_to_tensor(y_test)\n",
        "y_deploy = tf.convert_to_tensor(y_deploy)\n"
      ]
    },
    {
      "cell_type": "markdown",
      "metadata": {
        "id": "oVSD4w82I7Ob"
      },
      "source": [
        "## Build and Train a Deep Learning Model"
      ]
    },
    {
      "cell_type": "code",
      "execution_count": 18,
      "metadata": {
        "colab": {
          "base_uri": "https://localhost:8080/"
        },
        "id": "5ppasHgVI6Cl",
        "outputId": "38653501-629c-4584-af3d-6a0d3b9ea755"
      },
      "outputs": [
        {
          "name": "stdout",
          "output_type": "stream",
          "text": [
            "Model: \"sequential_8\"\n",
            "_________________________________________________________________\n",
            " Layer (type)                Output Shape              Param #   \n",
            "=================================================================\n",
            " conv1d_25 (Conv1D)          (None, 64, 993)           576       \n",
            "                                                                 \n",
            " batch_normalization_9 (Bat  (None, 64, 993)           3972      \n",
            " chNormalization)                                                \n",
            "                                                                 \n",
            " leaky_re_lu_25 (LeakyReLU)  (None, 64, 993)           0         \n",
            "                                                                 \n",
            " max_pooling1d_25 (MaxPooli  (None, 32, 993)           0         \n",
            " ng1D)                                                           \n",
            "                                                                 \n",
            " conv1d_26 (Conv1D)          (None, 32, 988)           6176      \n",
            "                                                                 \n",
            " leaky_re_lu_26 (LeakyReLU)  (None, 32, 988)           0         \n",
            "                                                                 \n",
            " max_pooling1d_26 (MaxPooli  (None, 16, 988)           0         \n",
            " ng1D)                                                           \n",
            "                                                                 \n",
            " conv1d_27 (Conv1D)          (None, 16, 985)           1040      \n",
            "                                                                 \n",
            " leaky_re_lu_27 (LeakyReLU)  (None, 16, 985)           0         \n",
            "                                                                 \n",
            " max_pooling1d_27 (MaxPooli  (None, 8, 985)            0         \n",
            " ng1D)                                                           \n",
            "                                                                 \n",
            " conv1d_28 (Conv1D)          (None, 8, 983)            200       \n",
            "                                                                 \n",
            " leaky_re_lu_28 (LeakyReLU)  (None, 8, 983)            0         \n",
            "                                                                 \n",
            " max_pooling1d_28 (MaxPooli  (None, 4, 983)            0         \n",
            " ng1D)                                                           \n",
            "                                                                 \n",
            " flatten_9 (Flatten)         (None, 3932)              0         \n",
            "                                                                 \n",
            " dense_18 (Dense)            (None, 1000)              3933000   \n",
            "                                                                 \n",
            " dropout_9 (Dropout)         (None, 1000)              0         \n",
            "                                                                 \n",
            " dense_19 (Dense)            (None, 100)               100100    \n",
            "                                                                 \n",
            " dropout_10 (Dropout)        (None, 100)               0         \n",
            "                                                                 \n",
            " dense_20 (Dense)            (None, 1)                 101       \n",
            "                                                                 \n",
            "=================================================================\n",
            "Total params: 4045165 (15.43 MB)\n",
            "Trainable params: 4043179 (15.42 MB)\n",
            "Non-trainable params: 1986 (7.76 KB)\n",
            "_________________________________________________________________\n"
          ]
        }
      ],
      "source": [
        "# Define the model\n",
        "model = tf.keras.Sequential([\n",
        "    tf.keras.layers.Conv1D(filters=64, kernel_size=8, activation=None, data_format=\"channels_first\", input_shape=(1, 1000)),\n",
        "    tf.keras.layers.BatchNormalization(),\n",
        "    tf.keras.layers.LeakyReLU(),\n",
        "    tf.keras.layers.MaxPooling1D(pool_size=2),\n",
        "    tf.keras.layers.Conv1D(filters=32, kernel_size=6, activation=None, data_format=\"channels_first\"),\n",
        "    tf.keras.layers.LeakyReLU(),\n",
        "    tf.keras.layers.MaxPooling1D(pool_size=2),\n",
        "    tf.keras.layers.Conv1D(filters=16, kernel_size=4, activation=None, data_format=\"channels_first\"),\n",
        "    tf.keras.layers.LeakyReLU(),\n",
        "    tf.keras.layers.MaxPooling1D(pool_size=2),\n",
        "    tf.keras.layers.Conv1D(filters=8, kernel_size=3, activation=None, data_format=\"channels_first\"),\n",
        "    tf.keras.layers.LeakyReLU(),\n",
        "    tf.keras.layers.MaxPooling1D(pool_size=2),\n",
        "    tf.keras.layers.Flatten(),\n",
        "    tf.keras.layers.Dense(1000, activation='relu'),\n",
        "    tf.keras.layers.Dropout(0.2),\n",
        "    tf.keras.layers.Dense(100, activation='relu'),\n",
        "    tf.keras.layers.Dropout(0.2),\n",
        "    tf.keras.layers.Dense(1, activation='sigmoid')\n",
        "])\n",
        "\n",
        "# Compile the model\n",
        "model.compile(optimizer='adam', loss='binary_crossentropy', metrics=['accuracy'])\n",
        "\n",
        "# Print the model summary\n",
        "model.summary()\n"
      ]
    },
    {
      "cell_type": "code",
      "execution_count": 19,
      "metadata": {
        "colab": {
          "base_uri": "https://localhost:8080/"
        },
        "id": "qMm9C4eVNFmy",
        "outputId": "d1b46bb9-fa3c-43ea-80c8-0b275023de4a"
      },
      "outputs": [
        {
          "name": "stdout",
          "output_type": "stream",
          "text": [
            "Epoch 1/25\n",
            "3680/3680 [==============================] - 37s 7ms/step - loss: 0.4761 - accuracy: 0.7849 - val_loss: 0.4123 - val_accuracy: 0.8176\n",
            "Epoch 2/25\n",
            "3680/3680 [==============================] - 29s 8ms/step - loss: 0.3410 - accuracy: 0.8559 - val_loss: 0.6270 - val_accuracy: 0.8267\n",
            "Epoch 3/25\n",
            "3680/3680 [==============================] - 30s 8ms/step - loss: 0.1955 - accuracy: 0.9288 - val_loss: 0.4941 - val_accuracy: 0.8902\n",
            "Epoch 4/25\n",
            "3680/3680 [==============================] - 28s 8ms/step - loss: 0.0850 - accuracy: 0.9693 - val_loss: 0.4523 - val_accuracy: 0.9049\n",
            "Epoch 5/25\n",
            "3680/3680 [==============================] - 27s 7ms/step - loss: 0.0630 - accuracy: 0.9795 - val_loss: 0.3578 - val_accuracy: 0.9231\n",
            "Epoch 6/25\n",
            "3680/3680 [==============================] - 27s 7ms/step - loss: 0.0526 - accuracy: 0.9841 - val_loss: 0.5364 - val_accuracy: 0.9255\n",
            "Epoch 7/25\n",
            "3680/3680 [==============================] - 28s 8ms/step - loss: 0.0485 - accuracy: 0.9857 - val_loss: 0.6081 - val_accuracy: 0.9235\n",
            "Epoch 8/25\n",
            "3680/3680 [==============================] - 26s 7ms/step - loss: 0.0444 - accuracy: 0.9874 - val_loss: 0.5495 - val_accuracy: 0.9166\n",
            "Epoch 9/25\n",
            "3680/3680 [==============================] - 27s 7ms/step - loss: 0.0387 - accuracy: 0.9889 - val_loss: 0.6600 - val_accuracy: 0.9227\n",
            "Epoch 10/25\n",
            "3680/3680 [==============================] - 28s 8ms/step - loss: 0.0303 - accuracy: 0.9915 - val_loss: 0.5896 - val_accuracy: 0.9185\n",
            "Epoch 11/25\n",
            "3680/3680 [==============================] - 26s 7ms/step - loss: 0.0458 - accuracy: 0.9880 - val_loss: 0.4264 - val_accuracy: 0.9049\n",
            "Epoch 12/25\n",
            "3680/3680 [==============================] - 28s 8ms/step - loss: 0.0415 - accuracy: 0.9899 - val_loss: 0.9698 - val_accuracy: 0.9138\n",
            "Epoch 13/25\n",
            "3680/3680 [==============================] - 27s 7ms/step - loss: 0.0332 - accuracy: 0.9927 - val_loss: 0.6009 - val_accuracy: 0.9282\n",
            "Epoch 14/25\n",
            "3680/3680 [==============================] - 29s 8ms/step - loss: 0.0375 - accuracy: 0.9901 - val_loss: 0.7099 - val_accuracy: 0.9111\n",
            "Epoch 15/25\n",
            "3680/3680 [==============================] - 28s 8ms/step - loss: 0.0296 - accuracy: 0.9938 - val_loss: 0.8945 - val_accuracy: 0.9156\n",
            "Epoch 16/25\n",
            "3680/3680 [==============================] - 28s 8ms/step - loss: 0.0389 - accuracy: 0.9914 - val_loss: 1.4355 - val_accuracy: 0.9210\n",
            "Epoch 17/25\n",
            "3680/3680 [==============================] - 28s 8ms/step - loss: 0.0340 - accuracy: 0.9921 - val_loss: 0.6935 - val_accuracy: 0.9291\n",
            "Epoch 18/25\n",
            "3680/3680 [==============================] - 29s 8ms/step - loss: 0.0276 - accuracy: 0.9936 - val_loss: 0.7200 - val_accuracy: 0.9284\n",
            "Epoch 19/25\n",
            "3680/3680 [==============================] - 27s 7ms/step - loss: 0.0298 - accuracy: 0.9935 - val_loss: 0.5908 - val_accuracy: 0.9164\n",
            "Epoch 20/25\n",
            "3680/3680 [==============================] - 27s 7ms/step - loss: 0.0292 - accuracy: 0.9940 - val_loss: 0.5536 - val_accuracy: 0.9272\n",
            "Epoch 21/25\n",
            "3680/3680 [==============================] - 26s 7ms/step - loss: 0.0390 - accuracy: 0.9918 - val_loss: 0.5348 - val_accuracy: 0.9227\n",
            "Epoch 22/25\n",
            "3680/3680 [==============================] - 28s 8ms/step - loss: 0.0222 - accuracy: 0.9950 - val_loss: 0.9970 - val_accuracy: 0.9311\n",
            "Epoch 23/25\n",
            "3680/3680 [==============================] - 29s 8ms/step - loss: 0.0300 - accuracy: 0.9929 - val_loss: 1.1204 - val_accuracy: 0.9291\n",
            "Epoch 24/25\n",
            "3680/3680 [==============================] - 29s 8ms/step - loss: 0.0348 - accuracy: 0.9928 - val_loss: 1.1594 - val_accuracy: 0.9276\n",
            "Epoch 25/25\n",
            "3680/3680 [==============================] - 27s 7ms/step - loss: 0.0326 - accuracy: 0.9932 - val_loss: 0.9996 - val_accuracy: 0.9286\n"
          ]
        }
      ],
      "source": [
        "history = model.fit(X_train, y_train, batch_size=4, epochs=25, validation_data=(X_val, y_val))"
      ]
    },
    {
      "cell_type": "code",
      "execution_count": 20,
      "metadata": {
        "colab": {
          "base_uri": "https://localhost:8080/"
        },
        "id": "vvHvSY38e1vY",
        "outputId": "5d52d6a4-1660-494f-8214-4f1111eb1c60"
      },
      "outputs": [
        {
          "name": "stdout",
          "output_type": "stream",
          "text": [
            "574/574 [==============================] - 3s 5ms/step - loss: 1.0250 - accuracy: 0.9290\n",
            "Test Accuracy: 92.90\n"
          ]
        }
      ],
      "source": [
        "test_loss, test_accuracy = model.evaluate(X_test, y_test, batch_size=4)\n",
        "print(f\"Test Accuracy: {test_accuracy*100:.2f}\")"
      ]
    },
    {
      "cell_type": "markdown",
      "metadata": {
        "id": "NGcQQT0olFof"
      },
      "source": [
        "## Visualize the Results"
      ]
    },
    {
      "cell_type": "code",
      "execution_count": 27,
      "metadata": {
        "colab": {
          "base_uri": "https://localhost:8080/",
          "height": 489
        },
        "id": "Zi3hoWcSlJw0",
        "outputId": "a9226265-622b-4f8e-f1b2-fd34ee90d55b"
      },
      "outputs": [
        {
          "data": {
            "text/plain": [
              "<matplotlib.legend.Legend at 0x7f4bb5b09f00>"
            ]
          },
          "execution_count": 27,
          "metadata": {},
          "output_type": "execute_result"
        },
        {
          "data": {
            "image/png": "[encoded data removed]",
            "text/plain": [
              "<Figure size 640x480 with 1 Axes>"
            ]
          },
          "metadata": {},
          "output_type": "display_data"
        }
      ],
      "source": [
        "# Plot the accuracy over time\n",
        "plt.plot(history.history[\"accuracy\"], c=\"r\", label=\"Training Accuracy\")\n",
        "plt.plot(history.history[\"val_accuracy\"], c=\"k\", label=\"Validation Accuracy\")\n",
        "plt.title(\"Train and Validation Accuracy vs Epochs\")\n",
        "plt.xlabel(\"Epoch\")\n",
        "plt.ylabel(\"Accuracy\")\n",
        "plt.grid()\n",
        "plt.legend(loc=\"lower right\")\n"
      ]
    },
    {
      "cell_type": "markdown",
      "metadata": {
        "id": "jQr2ejlbnbHk"
      },
      "source": [
        "## Save the Model and Deployment Dataset"
      ]
    },
    {
      "cell_type": "code",
      "execution_count": 28,
      "metadata": {
        "colab": {
          "base_uri": "https://localhost:8080/"
        },
        "id": "5lL1ohC-n3NE",
        "outputId": "c95d57b3-0c65-4b64-f04b-6d0af90ee81f"
      },
      "outputs": [
        {
          "name": "stdout",
          "output_type": "stream",
          "text": [
            "Requirement already satisfied: pyyaml in /usr/local/lib/python3.10/dist-packages (6.0.1)\n",
            "Requirement already satisfied: h5py in /usr/local/lib/python3.10/dist-packages (3.9.0)\n",
            "Requirement already satisfied: numpy>=1.17.3 in /usr/local/lib/python3.10/dist-packages (from h5py) (1.23.5)\n"
          ]
        }
      ],
      "source": [
        "!pip install pyyaml h5py"
      ]
    },
    {
      "cell_type": "code",
      "execution_count": 29,
      "metadata": {
        "id": "GItfEKu-navc"
      },
      "outputs": [],
      "source": [
        "import os\n",
        "\n",
        "# Save the model\n",
        "path_to_save = os.path.join(MOUNT_DIR, \"MyDrive\", \"datasets\", \"model\")\n",
        "model.save(path_to_save)"
      ]
    },
    {
      "cell_type": "code",
      "execution_count": 31,
      "metadata": {
        "id": "FD34QmUto9Kw"
      },
      "outputs": [],
      "source": [
        "# Save the deployment dataset as numpy arrays\n",
        "path_to_save = os.path.join(MOUNT_DIR, \"MyDrive\", \"datasets\", \"deploy.npz\")\n",
        "np.savez(path_to_save, ecgs=X_deploy.numpy(), labels=y_deploy.numpy())"
      ]
    }
  ],
  "metadata": {
    "accelerator": "GPU",
    "colab": {
      "gpuType": "T4",
      "provenance": []
    },
    "kernelspec": {
      "display_name": "Python 3",
      "name": "python3"
    },
    "language_info": {
      "name": "python"
    }
  },
  "nbformat": 4,
  "nbformat_minor": 0
}
